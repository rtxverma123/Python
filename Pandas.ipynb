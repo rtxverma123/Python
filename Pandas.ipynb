{
  "nbformat": 4,
  "nbformat_minor": 0,
  "metadata": {
    "colab": {
      "name": "Pandas.ipynb",
      "provenance": [],
      "authorship_tag": "ABX9TyO1NSqTJftSIK3Mek5ozVHz",
      "include_colab_link": true
    },
    "kernelspec": {
      "name": "python3",
      "display_name": "Python 3"
    }
  },
  "cells": [
    {
      "cell_type": "markdown",
      "metadata": {
        "id": "view-in-github",
        "colab_type": "text"
      },
      "source": [
        "<a href=\"https://colab.research.google.com/github/rtxverma123/Python/blob/main/Pandas.ipynb\" target=\"_parent\"><img src=\"https://colab.research.google.com/assets/colab-badge.svg\" alt=\"Open In Colab\"/></a>"
      ]
    },
    {
      "cell_type": "code",
      "metadata": {
        "id": "wFVBNQ3dxrCB"
      },
      "source": [
        "import pandas as pd\n",
        "import numpy as np"
      ],
      "execution_count": 3,
      "outputs": []
    },
    {
      "cell_type": "markdown",
      "metadata": {
        "id": "OSuKm-hL2owR"
      },
      "source": [
        "**tHE DATA OBJECT OF PANDAS IS SERIES**\n"
      ]
    },
    {
      "cell_type": "code",
      "metadata": {
        "id": "0MgZZ9hLxtRH"
      },
      "source": [
        "lst = ['a','b','c']\n",
        "my_data = [20,30,40]\n",
        "arr = np.array(my_data)\n",
        "d = {'a':10,'b':20, 'c':30}"
      ],
      "execution_count": 4,
      "outputs": []
    },
    {
      "cell_type": "code",
      "metadata": {
        "id": "wk2pjBJGxtT1",
        "outputId": "4a784b20-a0ed-4f3a-f2e1-cf881352bbe7",
        "colab": {
          "base_uri": "https://localhost:8080/"
        }
      },
      "source": [
        "pd.Series(data=my_data)"
      ],
      "execution_count": 5,
      "outputs": [
        {
          "output_type": "execute_result",
          "data": {
            "text/plain": [
              "0    20\n",
              "1    30\n",
              "2    40\n",
              "dtype: int64"
            ]
          },
          "metadata": {
            "tags": []
          },
          "execution_count": 5
        }
      ]
    },
    {
      "cell_type": "markdown",
      "metadata": {
        "id": "Lx7nln-4zCrx"
      },
      "source": [
        "Indexing a alist for another list\n"
      ]
    },
    {
      "cell_type": "code",
      "metadata": {
        "id": "Q-ckGnMRxtW8",
        "outputId": "63dbf6a0-255e-4a8c-fdf1-ed747a54fb96",
        "colab": {
          "base_uri": "https://localhost:8080/"
        }
      },
      "source": [
        "pd.Series(data=my_data,index=lst)"
      ],
      "execution_count": 8,
      "outputs": [
        {
          "output_type": "execute_result",
          "data": {
            "text/plain": [
              "a    20\n",
              "b    30\n",
              "c    40\n",
              "dtype: int64"
            ]
          },
          "metadata": {
            "tags": []
          },
          "execution_count": 8
        }
      ]
    },
    {
      "cell_type": "markdown",
      "metadata": {
        "id": "rjMQCvJk0lVV"
      },
      "source": [
        "Creating Series On our Own"
      ]
    },
    {
      "cell_type": "code",
      "metadata": {
        "id": "EGFg_aMoxtY5",
        "outputId": "8d8143d0-4e9a-4ad1-ddb5-49cfc6774b4d",
        "colab": {
          "base_uri": "https://localhost:8080/"
        }
      },
      "source": [
        "s1= pd.Series([1,2,3,4],['Germany', 'USSR', 'Japan','Germany'])\n",
        "s1"
      ],
      "execution_count": 10,
      "outputs": [
        {
          "output_type": "execute_result",
          "data": {
            "text/plain": [
              "Germany    1\n",
              "USSR       2\n",
              "Japan      3\n",
              "Germany    4\n",
              "dtype: int64"
            ]
          },
          "metadata": {
            "tags": []
          },
          "execution_count": 10
        }
      ]
    },
    {
      "cell_type": "markdown",
      "metadata": {
        "id": "Hjqw2B_h1VLq"
      },
      "source": [
        "Grabbing Info On Series\n"
      ]
    },
    {
      "cell_type": "code",
      "metadata": {
        "id": "bfKX52-Fxtb8",
        "outputId": "88b1a5be-8e00-444b-d47b-a8c40ba4844a",
        "colab": {
          "base_uri": "https://localhost:8080/"
        }
      },
      "source": [
        "s1['USSR']"
      ],
      "execution_count": 11,
      "outputs": [
        {
          "output_type": "execute_result",
          "data": {
            "text/plain": [
              "2"
            ]
          },
          "metadata": {
            "tags": []
          },
          "execution_count": 11
        }
      ]
    },
    {
      "cell_type": "code",
      "metadata": {
        "id": "69yUPSk41ZXL"
      },
      "source": [
        ""
      ],
      "execution_count": null,
      "outputs": []
    },
    {
      "cell_type": "code",
      "metadata": {
        "id": "yVNE-iEa1ZZx"
      },
      "source": [
        ""
      ],
      "execution_count": null,
      "outputs": []
    },
    {
      "cell_type": "code",
      "metadata": {
        "id": "efFm2xnx1Zcf"
      },
      "source": [
        ""
      ],
      "execution_count": null,
      "outputs": []
    },
    {
      "cell_type": "code",
      "metadata": {
        "id": "t18l7gLRxtf0"
      },
      "source": [
        ""
      ],
      "execution_count": null,
      "outputs": []
    },
    {
      "cell_type": "code",
      "metadata": {
        "id": "ev_M2lsFxtld"
      },
      "source": [
        ""
      ],
      "execution_count": null,
      "outputs": []
    },
    {
      "cell_type": "code",
      "metadata": {
        "id": "5NA-PTumxto3"
      },
      "source": [
        ""
      ],
      "execution_count": null,
      "outputs": []
    },
    {
      "cell_type": "code",
      "metadata": {
        "id": "aw0PpXw9xtrl"
      },
      "source": [
        ""
      ],
      "execution_count": null,
      "outputs": []
    }
  ]
}